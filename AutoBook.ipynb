{
 "cells": [
  {
   "cell_type": "code",
   "execution_count": 1,
   "metadata": {},
   "outputs": [],
   "source": [
    "a = \"Orjanshallen2002\"\n",
    "import time\n",
    "import chromedriver_autoinstaller\n",
    "chromedriver_autoinstaller.install()\n",
    "from selenium import webdriver\n",
    "from selenium.webdriver.common.keys import Keys\n",
    "from selenium.webdriver.common.by import By\n",
    "from selenium.webdriver.support.ui import WebDriverWait\n",
    "from selenium.webdriver.support import expected_conditions as EC\n",
    "from selenium.webdriver.support.ui import Select\n",
    "from selenium.webdriver.common.action_chains import ActionChains\n",
    "# Selenium Options\n",
    "from selenium.webdriver.chrome.options import Options\n",
    "from typing import Union, Tuple, Optional"
   ]
  },
  {
   "cell_type": "code",
   "execution_count": 2,
   "metadata": {},
   "outputs": [
    {
     "ename": "TypeError",
     "evalue": "book() missing 1 required positional argument: 'driver'",
     "output_type": "error",
     "traceback": [
      "\u001b[1;31m---------------------------------------------------------------------------\u001b[0m",
      "\u001b[1;31mTypeError\u001b[0m                                 Traceback (most recent call last)",
      "\u001b[1;32mc:\\Users\\Theodor Jonsson\\Visual_studio_code\\Python\\Automation\\AutoBook\\AutoBook.ipynb Cell 2\u001b[0m in \u001b[0;36m<cell line: 40>\u001b[1;34m()\u001b[0m\n\u001b[0;32m     <a href='vscode-notebook-cell:/c%3A/Users/Theodor%20Jonsson/Visual_studio_code/Python/Automation/AutoBook/AutoBook.ipynb#W1sZmlsZQ%3D%3D?line=37'>38</a>\u001b[0m     close_button \u001b[39m=\u001b[39m driver\u001b[39m.\u001b[39mfind_element(By\u001b[39m.\u001b[39mXPATH,\u001b[39m'\u001b[39m\u001b[39m//*[@class=\u001b[39m\u001b[39m\"\u001b[39m\u001b[39mtopclose\u001b[39m\u001b[39m\"\u001b[39m\u001b[39m]\u001b[39m\u001b[39m'\u001b[39m)\n\u001b[0;32m     <a href='vscode-notebook-cell:/c%3A/Users/Theodor%20Jonsson/Visual_studio_code/Python/Automation/AutoBook/AutoBook.ipynb#W1sZmlsZQ%3D%3D?line=38'>39</a>\u001b[0m     close_button\u001b[39m.\u001b[39mclick()\n\u001b[1;32m---> <a href='vscode-notebook-cell:/c%3A/Users/Theodor%20Jonsson/Visual_studio_code/Python/Automation/AutoBook/AutoBook.ipynb#W1sZmlsZQ%3D%3D?line=39'>40</a>\u001b[0m book()\n",
      "\u001b[1;31mTypeError\u001b[0m: book() missing 1 required positional argument: 'driver'"
     ]
    }
   ],
   "source": [
    "def book(driver:Union[webdriver.Chrome, webdriver.Firefox]):\n",
    "    try:\n",
    "        time_start_list = driver.find_element(By.XPATH,(\"//select[@class = 'timedrop timeHourStart']\"))\n",
    "        assert time_start_list is not None and time_start_list.is_displayed(), \"Time start list is not displayed\"\n",
    "        time_start_list.click()\n",
    "    except Exception as e:\n",
    "        print(e)\n",
    "        return False\n",
    "    # time_start = driver.find_element(By.XPATH,'//*[@id=\"reserveformedit\"]/div[1]/table/tbody/tr[2]/td[1]/select[1]/option[11]')\n",
    "    # time_start.click()\n",
    "    time_start_list.send_keys(\"16\")\n",
    "    time_start_list.send_keys(Keys.RETURN)\n",
    "    time_start_minute = driver.find_element(By.XPATH,(\"//select[@class = 'timedrop timeMinuteStart']\"))\n",
    "    time_start_minute.send_keys(\"15\")\n",
    "    time_start_minute.send_keys(Keys.RETURN)\n",
    "    time_end_list = driver.find_element(By.XPATH,(\"//select[@class = 'timedrop timeHourEnd']\"))\n",
    "    time_end_list.send_keys(\"18\")\n",
    "    time_end_list.send_keys(Keys.RETURN)\n",
    "    time_end_minute = driver.find_element(By.XPATH,(\"//select[@class = 'timedrop timeMinuteEnd']\"))\n",
    "    time_end_minute.send_keys(\"00\")\n",
    "    time_end_minute.send_keys(Keys.RETURN)\n",
    "    \n",
    "    print(\"Time is set\")\n",
    "    search_classes = driver.find_elements(By.XPATH, '//*[@class = \"resobjectsearch hasClick\"]')\n",
    "    for cls in search_classes:\n",
    "        if cls.text.startswith(\"Insti\"):\n",
    "            cls.click()\n",
    "            inst_list = driver.find_element(By.XPATH,(\"//*[@class = 'infotable infotablenormal']\"))\n",
    "            inst_list.click()\n",
    "    print(\"Class is set\")\n",
    "    public_comment = driver.find_element(By.XPATH, '//*[@class = \"reset editfield niceinput resinputfield\"]')\n",
    "    public_comment.send_keys(\"Test\")\n",
    "    print(\"Booking!\")\n",
    "    book_button = driver.find_element(By.XPATH,'//*[@class=\"continueRes greenbutton greenbottom\"]')\n",
    "    book_button.click()\n",
    "    print(\"Booked!\")\n",
    "    time.sleep(2)\n",
    "    close_button = driver.find_element(By.XPATH,'//*[@class=\"topclose\"]')\n",
    "    close_button.click()\n",
    "book()"
   ]
  },
  {
   "cell_type": "code",
   "execution_count": null,
   "metadata": {},
   "outputs": [],
   "source": [
    "\n",
    "def launchBrowser():\n",
    "    # Selenium Options\n",
    "    options = Options()\n",
    "    options.add_argument(\"--start-maximized\")\n",
    "    options.add_argument(\"--disable-notifications\")\n",
    "    options.add_argument(\"--disable-infobars\")\n",
    "    options.add_argument(\"--disable-extensions\")\n",
    "    options.add_argument(\"--disable-dev-shm-usage\")\n",
    "    options.add_argument(\"--no-sandbox\")\n",
    "    # Highlight where the fictional mouse is\n",
    "    options.add_experimental_option(\"excludeSwitches\", [\"enable-automation\"])\n",
    "    driver = webdriver.Chrome(options=options)\n",
    "\n",
    "    driver.get(\"https://cloud.timeedit.net/umu/web/studres2/\")\n",
    "    return driver\n",
    "\n",
    "driver = launchBrowser()\n",
    "# Find link and press called \"Logga in med Umu-id\"\n",
    "login = driver.find_element(By.XPATH, \"//a[contains(text(),'Logga in med Umu-id')]\")\n",
    "login.click()\n",
    "\n",
    "# Find the username field and enter the username\n",
    "username = driver.find_element(By.ID, \"userNameInput\")\n",
    "username.send_keys(\"thjo0148\")\n",
    "# Find the password field and enter the password\n",
    "#region Password\n",
    "password = driver.find_element(By.ID, \"passwordInput\")\n",
    "#engregion Password\n",
    "password.send_keys(a)\n",
    "# Find the login button and click it\n",
    "login = driver.find_element(By.ID, \"submitButton\")\n",
    "login.click()\n",
    "\n",
    "l = driver.find_element(By.XPATH, '//*[@id=\"contents\"]/div[2]/div[5]/div[1]/div[3]/a[2]/div/h2')\n",
    "l.click()\n",
    "# Find Search bar and enter the name of the room\n",
    "search = driver.find_element(By.XPATH,\"//*[@id='SFC_D_0_0']\")\n",
    "search.send_keys(\"Nat.A1.321\")\n",
    "# Find the search button and click it\n",
    "search = driver.find_element(By.XPATH,\"//*[@id='ffsetx4']/div/div/div[1]/div/input[2]\")\n",
    "search.click()\n",
    "# Select day calendar and click it\n",
    "day_button = driver.find_element(By.XPATH,'//*[@class = \"weekZoomFirst weekZoomDay clickable\"]')\n",
    "day_button.click()\n",
    "\n",
    "time.sleep(1)\n",
    "# Clear public comment field\n"
   ]
  },
  {
   "cell_type": "code",
   "execution_count": null,
   "metadata": {},
   "outputs": [],
   "source": [
    "\n",
    "while True:\n",
    "    time.sleep(0.1)\n",
    "    current_date = driver.find_element(By.XPATH,'//*[@id=\"leftresdateurl\"]').get_property(\"value\")\n",
    "    elements = driver.find_elements(By.CLASS_NAME, \"weekDiv\")\n",
    "    try:\n",
    "        for element in elements:\n",
    "            date = element.get_attribute(\"data-dates\")\n",
    "            if date == current_date:\n",
    "                # Check if the element is visible and interactable\n",
    "                if element.is_displayed() and element.is_enabled():\n",
    "                    # Click the element but at the far right of the element\n",
    "                    # Get the width of the element\n",
    "                    width = element.size[\"width\"]\n",
    "                    # Get position of the element\n",
    "                    position = element.location\n",
    "                    # Calculate the x coordinate of the far right of the element\n",
    "                    x = position[\"x\"] + width - 1\n",
    "                    # Click the element at the far right\n",
    "                    ActionChains(driver).move_to_element_with_offset(element, width//2-5, 0).click().perform()\n",
    "                    \n",
    "                    # ActionChains(driver).move_to_element(element).move_by_offset(width//2-1, 0).click().perform()\n",
    "\n",
    "                    booked = book()\n",
    "                    print(f\"Booked: {booked} at {current_date}\")\n",
    "                    if not booked:\n",
    "                        time.sleep(0.2)\n",
    "                        close_button = driver.find_element(By.XPATH,'//*[@id=\"fancybox-close\"]')\n",
    "                        time.sleep(0.2)\n",
    "                        close_button.click()\n",
    "                        time.sleep(0.2)\n",
    "    except Exception as e:\n",
    "        # Next Date:\n",
    "        print(f\"Error: {e}\")\n",
    "        # print(f\"Could not Book date: {current_date}\")\n",
    "    next_date_button = driver.find_element(By.XPATH,'//*[@id=\"leftresdateinc\"]')\n",
    "    next_date_button.click()\n",
    "    # Check if click altered the date\n",
    "    new_date = driver.find_element(By.XPATH,'//*[@id=\"leftresdateurl\"]').get_property(\"value\")\n",
    "\n",
    "    if new_date == current_date:\n",
    "        print(\"Reached End of the days on; \" + current_date)\n",
    "        break\n"
   ]
  },
  {
   "cell_type": "code",
   "execution_count": null,
   "metadata": {},
   "outputs": [],
   "source": [
    "search = driver.find_element(By.XPATH, \"//*[@class='objectinput objectinputtext']\")\n",
    "# Clear search bar\n",
    "search.clear()\n",
    "search.send_keys(\"NAT.A1.321\")"
   ]
  },
  {
   "cell_type": "code",
   "execution_count": null,
   "metadata": {},
   "outputs": [],
   "source": [
    "a = driver.find_element(By.XPATH,'//*[@id=\"objectselectionresult\"]/div[2]/div[1]/div[6]/div[3]')\n",
    "a.click()"
   ]
  },
  {
   "cell_type": "code",
   "execution_count": null,
   "metadata": {},
   "outputs": [],
   "source": [
    "bar = driver.find_element(By.XPATH,'//*[@id=\"objectselectionresult\"]/div[2]/div[1]/div[6]/div[3]/div[3]')\n",
    "print(f\"Found bar: {bar}\")\n",
    "bar.click()"
   ]
  },
  {
   "cell_type": "code",
   "execution_count": null,
   "metadata": {},
   "outputs": [],
   "source": [
    "# elements = driver.find_elements(By.CLASS_NAME, \"slotfree2 slotfreetarget\")\n",
    "# print(len(elements))\n",
    "elements = driver.find_elements(By.CLASS_NAME, \"weekDiv\")\n",
    "current_date = driver.find_element(By.XPATH,'//*[@id=\"leftresdateurl\"]').get_property(\"value\")\n",
    "# print(len(elements))\n",
    "# print(elements[2])\n",
    "# Get date of the first element\n",
    "for element in elements:\n",
    "    date = element.get_attribute(\"data-dates\")\n",
    "    print(f\"Date : {date}\")\n",
    "    if date == \"20221027\":\n",
    "        print(\"Found current date\")\n",
    "        element.click()\n",
    "        # Get all the elements of the current date"
   ]
  },
  {
   "cell_type": "markdown",
   "metadata": {},
   "source": []
  },
  {
   "cell_type": "code",
   "execution_count": null,
   "metadata": {},
   "outputs": [],
   "source": [
    "elements[0].click()"
   ]
  },
  {
   "cell_type": "code",
   "execution_count": null,
   "metadata": {},
   "outputs": [],
   "source": [
    "dir(elements[0].parent)"
   ]
  },
  {
   "cell_type": "code",
   "execution_count": null,
   "metadata": {},
   "outputs": [],
   "source": [
    "while True:\n",
    "    try:\n",
    "        bar = driver.find_element(By.XPATH,'//*[@id=\"objectselectionresult\"]/div[2]/div[1]/div[6]/div[3]/div[3]')\n",
    "        bar.click()\n",
    "        break\n",
    "    except:\n",
    "        # Next Date:\n",
    "        next_date = driver.find_element(By.XPATH,'//*[@id=\"leftresdateinc\"]')\n",
    "        next_date.click()"
   ]
  },
  {
   "cell_type": "code",
   "execution_count": null,
   "metadata": {},
   "outputs": [],
   "source": [
    "drop_down = driver.find_element(By.XPATH,(\"//select[@class = 'timedrop timeHourStart']\"))"
   ]
  },
  {
   "cell_type": "code",
   "execution_count": null,
   "metadata": {},
   "outputs": [],
   "source": []
  },
  {
   "cell_type": "markdown",
   "metadata": {},
   "source": []
  },
  {
   "cell_type": "code",
   "execution_count": null,
   "metadata": {},
   "outputs": [],
   "source": [
    "drop_down.click()\n",
    "drop_down.send_keys(\"10\")\n",
    "drop_down.send_keys(Keys.ENTER)\n",
    "\n"
   ]
  },
  {
   "cell_type": "code",
   "execution_count": null,
   "metadata": {},
   "outputs": [],
   "source": [
    "\n",
    "institution = driver.find_elements(By.XPATH, '//*[@class = \"resobjectsearch hasClick\"]')\n",
    "# print(dir(institution))\n",
    "print(len(institution))\n",
    "for i in institution:\n",
    "    print(i.text)\n",
    "    if i.text.startswith(\"Insti\"):\n",
    "        i.click()\n",
    "        drop_down = driver.find_element(By.XPATH,(\"//*[@class = 'infoboxtitle']\"))\n",
    "        drop_down.click()\n",
    "\n",
    "        # print(dir(i))\n",
    "        # search = driver.find_element(By.XPATH, '//*[@class = \"type12 resobjectselector hidden\"]')\n",
    "        # search.send_keys(\"5730\")\n",
    "    # print(i.get_attribute(\"data-id\"))\n",
    "    # print(i.get_attribute(\"data-name\"))\n",
    "\n"
   ]
  },
  {
   "cell_type": "code",
   "execution_count": null,
   "metadata": {},
   "outputs": [],
   "source": [
    "institution = driver.find_element(By.CLASS_NAME, '//*[@class = \"resobjectsearch hasClick\"]')"
   ]
  },
  {
   "cell_type": "code",
   "execution_count": null,
   "metadata": {},
   "outputs": [],
   "source": [
    "institution = driver.find_element(By.XPATH, '//*[@class = \"resobjectsearch hasClick\"]')\n",
    "institution.click()"
   ]
  },
  {
   "cell_type": "code",
   "execution_count": null,
   "metadata": {},
   "outputs": [],
   "source": [
    "public_comment = driver.find_element(By.XPATH, '//*[@class = \"reset editfield niceinput resinputfield\"]')\n"
   ]
  },
  {
   "cell_type": "code",
   "execution_count": null,
   "metadata": {},
   "outputs": [],
   "source": []
  },
  {
   "cell_type": "code",
   "execution_count": null,
   "metadata": {},
   "outputs": [],
   "source": [
    "public_comment.send_keys(\"Test\")"
   ]
  },
  {
   "cell_type": "code",
   "execution_count": null,
   "metadata": {},
   "outputs": [],
   "source": []
  },
  {
   "cell_type": "code",
   "execution_count": null,
   "metadata": {},
   "outputs": [],
   "source": [
    "import sys, os\n",
    "sys.path.append(os.path.abspath(os.path.join('../')))\n",
    "from Autobook import Booker"
   ]
  },
  {
   "cell_type": "code",
   "execution_count": null,
   "metadata": {},
   "outputs": [],
   "source": [
    "!killall \"Google Chrome\"\n",
    "b = Booker(username=\"thjo0148\",\n",
    "        password=\"Orjanshallen2002\",\n",
    "        start_time=\"16\",end_time=\"17\",\n",
    "        headless=False)\n",
    "b.book_all()\n",
    "b.display_booked_dates()\n",
    "b.pause()\n",
    "b.close()"
   ]
  },
  {
   "cell_type": "code",
   "execution_count": null,
   "metadata": {},
   "outputs": [],
   "source": [
    "for i in range(10):\n",
    "    time.sleep(0.1)\n",
    "    from selenium.webdriver.common.by import By\n",
    "    driver = b.driver\n",
    "    search_classes = driver.find_elements(By.XPATH, '//*[@class = \"resobjectsearch hasClick\"]')\n",
    "    for cls in search_classes:\n",
    "        print(cls.text)\n",
    "        if cls.text.startswith(\"Insti\"):\n",
    "            cls.click()\n",
    "            time.sleep(0.1)\n",
    "            inst_list = driver.find_element(By.XPATH,(\"//*[@class = 'infotable infotablenormal']\"))\n",
    "            time.sleep(0.1)\n",
    "            inst_list.click()\n",
    "        # inst_list = driver.find_element(By.XPATH,(\"//*[@class = 'infotable infotablenormal']\"))\n",
    "        # inst_list = driver.find_element(By.XPATH,(\"//*[@class = 'infoboxtitle']\"))\n",
    "        # inst_list.click()"
   ]
  },
  {
   "cell_type": "markdown",
   "metadata": {},
   "source": []
  },
  {
   "cell_type": "code",
   "execution_count": null,
   "metadata": {},
   "outputs": [],
   "source": []
  },
  {
   "cell_type": "code",
   "execution_count": null,
   "metadata": {},
   "outputs": [],
   "source": [
    "book_button = driver.find_element(By.XPATH,'//*[@class=\"continueRes greenbutton greenbottom\"]')\n",
    "book_button.click()"
   ]
  },
  {
   "cell_type": "code",
   "execution_count": null,
   "metadata": {},
   "outputs": [],
   "source": [
    "b.book_all()"
   ]
  },
  {
   "cell_type": "code",
   "execution_count": 8,
   "metadata": {},
   "outputs": [
    {
     "name": "stderr",
     "output_type": "stream",
     "text": [
      "C:\\Users\\Theodor Jonsson\\AppData\\Local\\Temp\\ipykernel_15536\\3422093237.py:11: DeprecationWarning: executable_path has been deprecated, please pass in a Service object\n",
      "  driver = webdriver.Chrome(ChromeDriverManager().install(),options=options)\n"
     ]
    },
    {
     "name": "stdout",
     "output_type": "stream",
     "text": [
      "category: Travel\n",
      "category: Mystery\n",
      "category: Historical Fiction\n",
      "category: Sequential Art\n",
      "category: Classics\n",
      "category: Philosophy\n",
      "category: Romance\n",
      "category: Womens Fiction\n",
      "category: Fiction\n",
      "category: Childrens\n",
      "category: Religion\n",
      "category: Nonfiction\n",
      "category: Music\n",
      "category: Default\n",
      "category: Science Fiction\n",
      "category: Sports and Games\n",
      "category: Add a comment\n",
      "category: Fantasy\n",
      "category: New Adult\n",
      "category: Young Adult\n",
      "category: Science\n",
      "category: Poetry\n",
      "category: Paranormal\n",
      "category: Art\n",
      "category: Psychology\n",
      "category: Autobiography\n",
      "category: Parenting\n",
      "category: Adult Fiction\n",
      "category: Humor\n",
      "category: Horror\n",
      "category: History\n",
      "category: Food and Drink\n",
      "category: Christian Fiction\n",
      "category: Business\n",
      "category: Biography\n",
      "category: Thriller\n",
      "category: Contemporary\n",
      "category: Spirituality\n",
      "category: Academic\n",
      "category: Self Help\n",
      "category: Historical\n",
      "category: Christian\n",
      "category: Suspense\n",
      "category: Short Stories\n",
      "category: Novels\n",
      "category: Health\n",
      "category: Politics\n",
      "category: Cultural\n",
      "category: Erotica\n",
      "category: Crime\n"
     ]
    }
   ],
   "source": [
    "from selenium import webdriver\n",
    "from selenium.webdriver.chrome.options import Options\n",
    "from webdriver_manager.chrome import ChromeDriverManager\n",
    "from selenium.webdriver.common.by import By\n",
    "\n",
    "options = Options()\n",
    "# options.add_argument(\"--headless\")  # comment it to run with normal way\n",
    "\n",
    "#driver = webdriver.Chrome(chrome_options=options)  # DeprecationWarning: chrome_options\n",
    "\n",
    "driver = webdriver.Chrome(ChromeDriverManager().install(),options=options)\n",
    "# driver = webdriver.Chrome(options=options)\n",
    "\n",
    "driver.get('http://books.toscrape.com/')\n",
    "\n",
    "# find some elements\n",
    "elements = driver.find_elements(By.XPATH,'//div[@class=\"side_categories\"]//ul//ul//a')\n",
    "\n",
    "# display elements\n",
    "for item in elements:\n",
    "    print('category:', item.text)"
   ]
  },
  {
   "cell_type": "code",
   "execution_count": 3,
   "metadata": {},
   "outputs": [
    {
     "name": "stderr",
     "output_type": "stream",
     "text": [
      "C:\\Users\\Theodor Jonsson\\AppData\\Roaming\\Python\\Python39\\site-packages\\requests\\__init__.py:78: RequestsDependencyWarning: urllib3 (1.26.12) or chardet (3.0.4) doesn't match a supported version!\n",
      "  warnings.warn(\"urllib3 ({0}) or chardet ({1}) doesn't match a supported \"\n",
      "[WDM] - Downloading: 100%|██████████| 6.29M/6.29M [00:00<00:00, 8.69MB/s]\n",
      "C:\\Users\\Theodor Jonsson\\AppData\\Local\\Temp\\ipykernel_15536\\2160715986.py:4: DeprecationWarning: executable_path has been deprecated, please pass in a Service object\n",
      "  driver = webdriver.Chrome(ChromeDriverManager().install())\n"
     ]
    }
   ],
   "source": [
    "from selenium import webdriver\n",
    "from webdriver_manager.chrome import ChromeDriverManager\n",
    "\n",
    "driver = webdriver.Chrome(ChromeDriverManager().install())"
   ]
  },
  {
   "cell_type": "code",
   "execution_count": null,
   "metadata": {},
   "outputs": [],
   "source": []
  }
 ],
 "metadata": {
  "kernelspec": {
   "display_name": "Python 3.9.13 64-bit",
   "language": "python",
   "name": "python3"
  },
  "language_info": {
   "codemirror_mode": {
    "name": "ipython",
    "version": 3
   },
   "file_extension": ".py",
   "mimetype": "text/x-python",
   "name": "python",
   "nbconvert_exporter": "python",
   "pygments_lexer": "ipython3",
   "version": "3.9.13"
  },
  "orig_nbformat": 4,
  "vscode": {
   "interpreter": {
    "hash": "11938c6bc6919ae2720b4d5011047913343b08a43b18698fd82dedb0d4417594"
   }
  }
 },
 "nbformat": 4,
 "nbformat_minor": 2
}
